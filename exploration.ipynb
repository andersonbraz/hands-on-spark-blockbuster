{
 "cells": [
  {
   "cell_type": "markdown",
   "metadata": {},
   "source": [
    "# Exemplo projeto PySpark"
   ]
  },
  {
   "cell_type": "markdown",
   "metadata": {},
   "source": [
    "## Importar bibliotecas necessárias"
   ]
  },
  {
   "cell_type": "code",
   "execution_count": 1,
   "metadata": {},
   "outputs": [],
   "source": [
    "from pyspark.sql import SparkSession\n",
    "from pyspark.sql import functions as F"
   ]
  },
  {
   "cell_type": "markdown",
   "metadata": {},
   "source": [
    "## Abrir sessão Spark"
   ]
  },
  {
   "cell_type": "code",
   "execution_count": 2,
   "metadata": {},
   "outputs": [
    {
     "name": "stderr",
     "output_type": "stream",
     "text": [
      "your 131072x1 screen size is bogus. expect trouble\n",
      "Setting default log level to \"WARN\".\n",
      "To adjust logging level use sc.setLogLevel(newLevel). For SparkR, use setLogLevel(newLevel).\n",
      "24/05/03 15:55:58 WARN NativeCodeLoader: Unable to load native-hadoop library for your platform... using builtin-java classes where applicable\n",
      "24/05/03 15:56:00 WARN Utils: Service 'SparkUI' could not bind on port 4040. Attempting port 4041.\n"
     ]
    }
   ],
   "source": [
    "spark = SparkSession.builder.appName(\"MeuApp\").getOrCreate()"
   ]
  },
  {
   "cell_type": "markdown",
   "metadata": {},
   "source": [
    "## Funções úteis"
   ]
  },
  {
   "cell_type": "code",
   "execution_count": 3,
   "metadata": {},
   "outputs": [],
   "source": [
    "def get_name_source(col):\n",
    "    return F.when(F.lower(F.col(col)).contains(\"netflix\"), \"Netflix\")\\\n",
    "        .when(F.lower(F.col(col)).contains(\"amazon_prime\"), \"Amazon Prime\")\\\n",
    "        .when(F.lower(F.col(col)).contains(\"disney_plus\"), \"Disney Plus\")\\\n",
    "        .otherwise(F.col(col))"
   ]
  },
  {
   "cell_type": "markdown",
   "metadata": {},
   "source": [
    "## Extração - Lendo os arquivos de origem"
   ]
  },
  {
   "cell_type": "code",
   "execution_count": 4,
   "metadata": {},
   "outputs": [
    {
     "name": "stderr",
     "output_type": "stream",
     "text": [
      "                                                                                \r"
     ]
    },
    {
     "name": "stdout",
     "output_type": "stream",
     "text": [
      "+-------+-------+---------------------------------+---------------------------+---------------------------------------------------------------------------------------------------------------------------------------------------------------------------------------------------------------------------------------------------------------------------------------------------------+--------------+--------------+------------+------+--------+---------------------------------+---------------------------------------------------------------------------------------------------------------------------------------------------------------------------------------------------------------------------------------------------------------------------------------------------------------------------------------------------------------------------------------------------------+--------------------------------------------------------------------------------+--------------------------------+\n",
      "|show_id|type   |title                            |director                   |cast                                                                                                                                                                                                                                                                                                     |country       |date_added    |release_year|rating|duration|listed_in                        |description                                                                                                                                                                                                                                                                                                                                                                                              |source                                                                          |id_title                        |\n",
      "+-------+-------+---------------------------------+---------------------------+---------------------------------------------------------------------------------------------------------------------------------------------------------------------------------------------------------------------------------------------------------------------------------------------------------+--------------+--------------+------------+------+--------+---------------------------------+---------------------------------------------------------------------------------------------------------------------------------------------------------------------------------------------------------------------------------------------------------------------------------------------------------------------------------------------------------------------------------------------------------+--------------------------------------------------------------------------------+--------------------------------+\n",
      "|s1     |Movie  |The Grand Seduction              |Don McKellar               |Brendan Gleeson, Taylor Kitsch, Gordon Pinsent                                                                                                                                                                                                                                                           |Canada        |March 30, 2021|2014        |NULL  |113 min |Comedy, Drama                    |A small fishing village must procure a local doctor to secure a lucrative business contract. When unlikely candidate and big city doctor Paul Lewis lands in their lap for a trial residence, the townsfolk rally together to charm him into staying. As the doctor's time in the village winds to a close, acting mayor Murray French has no choice but to pull out all the stops.                      |file:///root/projects/hands-on-spark-blockbuster/sources/amazon_prime_titles.csv|0c5f3999f04d96be0dd4c124b22a693e|\n",
      "|s2     |Movie  |Take Care Good Night             |Girish Joshi               |Mahesh Manjrekar, Abhay Mahajan, Sachin Khedekar                                                                                                                                                                                                                                                         |India         |March 30, 2021|2018        |13+   |110 min |Drama, International             |A Metro Family decides to fight a Cyber Criminal threatening their stability and pride.                                                                                                                                                                                                                                                                                                                  |file:///root/projects/hands-on-spark-blockbuster/sources/amazon_prime_titles.csv|c40efb117bd151f189667b486996adb1|\n",
      "|s3     |Movie  |Secrets of Deception             |Josh Webber                |Tom Sizemore, Lorenzo Lamas, Robert LaSardo, Richard Jones, Yancey Arias, Noel Gugliemi                                                                                                                                                                                                                  |United States |March 30, 2021|2017        |NULL  |74 min  |Action, Drama, Suspense          |After a man discovers his wife is cheating on him with a neighborhood kid he goes down a furious path of self-destruction                                                                                                                                                                                                                                                                                |file:///root/projects/hands-on-spark-blockbuster/sources/amazon_prime_titles.csv|c02c2d01fc26c302e46ae5a1d9599a64|\n",
      "|s4     |Movie  |Pink: Staying True               |Sonia Anderson             |Interviews with: Pink, Adele, Beyoncé, Britney Spears, Christina Aguilera, more!                                                                                                                                                                                                                         |United States |March 30, 2021|2014        |NULL  |69 min  |Documentary                      |\"Pink breaks the mold once again, bringing her career to a new level in 2013 with a world tour that entertains unlike ever before! Get inside access to \"\"the girl who got the party started\"\" with exclusive interviews and rare live performances.\"                                                                                                                                                    |file:///root/projects/hands-on-spark-blockbuster/sources/amazon_prime_titles.csv|47d18e7be0669e6c5dc270c3db5484cb|\n",
      "|s5     |Movie  |Monster Maker                    |Giles Foster               |Harry Dean Stanton, Kieran O'Brien, George Costigan, Amanda Dickinson, Alison Steadman, Grant Bardsley, Bill Moody, Matthew Scurfield                                                                                                                                                                    |United Kingdom|March 30, 2021|1989        |NULL  |45 min  |Drama, Fantasy                   |Teenage Matt Banting wants to work with a famous but eccentric creature/special effects man named Chancey Bellows. He gets more than he bargained for when one of the creatures, the giant dragon-like Ultragorgon, takes Matt under his wing. Matt is forced to confront his inner monsters while working out his issues with his father.                                                               |file:///root/projects/hands-on-spark-blockbuster/sources/amazon_prime_titles.csv|9e7dfa4faecc828e769fe6048367e219|\n",
      "|s6     |Movie  |Living With Dinosaurs            |Paul Weiland               |Gregory Chisholm, Juliet Stevenson, Brian Henson, Michael Maloney                                                                                                                                                                                                                                        |United Kingdom|March 30, 2021|1989        |NULL  |52 min  |Fantasy, Kids                    |The story unfolds in a an English seaside town, where Dom, an only child, faces the imminent arrival of a new sibling, and subsequently diminished attention from his mother. A stuffed toy dinosaur named Dog is Dom's only confidant – Dom relies on his friend heavily for support as he confronts his problems, accepts the changes in his life, and understands the love he has for his parents.    |file:///root/projects/hands-on-spark-blockbuster/sources/amazon_prime_titles.csv|8a3be2c9a3f6e2f3beb6cf606f31ff56|\n",
      "|s7     |Movie  |Hired Gun                        |Fran Strine                |Alice Cooper, Liberty DeVitto, Ray Parker Jr., David Foster, Jason Hook, Steve Vai, Phil X, Rudy Sarzo, Jay Graydon, Rob Zombie, Kenny Aronoff, Steve Lukather, Justin Derrico, Eva Gardner, John 5, Eric Singer, Derek St. Holmes, Paul Bushnell, Jason Newsted, Glen Sobel, Nita Strauss, Chris Johnson|United States |March 30, 2021|2017        |NULL  |98 min  |Documentary, Special Interest    |\"They are the \"\"First Call                                                                                                                                                                                                                                                                                                                                                                               |file:///root/projects/hands-on-spark-blockbuster/sources/amazon_prime_titles.csv|1029bb5f346227ba19cae33516004984|\n",
      "|s8     |Movie  |Grease Live!                     |Thomas Kail, Alex Rudzinski|Julianne Hough, Aaron Tveit, Vanessa Hudgens, Keke Palmer, Carly Rae Jepson, Mario Lopez, Carlos PenaVega, Kether Donohue, Jordan Fisher, David Del Rio, Andrew Call, Wendell Pierce, Boyz II Men, Jessie J, Ana Gasteyer, Didi Conn                                                                     |United States |March 30, 2021|2016        |NULL  |131 min |Comedy                           |This honest, uncompromising comedy chronicles the war stories and sexual misadventures of a tight circle of lovers and friends fighting to get their acts together, for better or worse.                                                                                                                                                                                                                 |file:///root/projects/hands-on-spark-blockbuster/sources/amazon_prime_titles.csv|583ced95a332e612358c60424ba3d7c3|\n",
      "|s9     |Movie  |Global Meltdown                  |Daniel Gilboy              |Michael Paré, Leanne Khol Young, Patrick J. MacEachern                                                                                                                                                                                                                                                   |Canada        |March 30, 2021|2017        |NULL  |87 min  |Action, Science Fiction, Suspense|A helicopter pilot and an environmental scientist lead a exodus of survivors in a search for a safe haven after a catastrophic tectonic event causes the crust of the earth to break apart.                                                                                                                                                                                                              |file:///root/projects/hands-on-spark-blockbuster/sources/amazon_prime_titles.csv|823ce6319963b47ce22636f68c7ef532|\n",
      "|s10    |Movie  |David's Mother                   |Robert Allan Ackerman      |Kirstie Alley, Sam Waterston, Stockard Channing                                                                                                                                                                                                                                                          |United States |April 1, 2021 |1994        |NULL  |92 min  |Drama                            |\"Sally Goodson is a devoted mother to her autistic son David. Abandoned by her husband, Sally has managed to keep her son out of \"\"the System\"\"                                                                                                                                                                                                                                                          |file:///root/projects/hands-on-spark-blockbuster/sources/amazon_prime_titles.csv|a520216f4eac99c73eb3c489304924d9|\n",
      "|s11    |Movie  |Forest Fairies                   |Justin G. Dyck             |Emily Wilder, Adrian Cowan, Gary Mckenzie, Jeremy Ninaber, Brenda Somers, Brian Carleton, Lora Burke, Winny Clarke, Mercedes Morris, Rebecca Perry, Emily Agard, Graham Gauthier                                                                                                                         |Canada        |April 4, 2021 |2016        |NULL  |88 min  |Adventure, Kids                  |Amanda stumbles upon a hidden village of fairies in the forest. They help her thwart a scheming land developer's plan to trick her mother into selling the family inn.                                                                                                                                                                                                                                   |file:///root/projects/hands-on-spark-blockbuster/sources/amazon_prime_titles.csv|f323be7b9a985fbb9538142369aeb4e8|\n",
      "|s12    |Movie  |Take Care                        |Liz Tuccillo               |Leslie Bibb, Kevin Curtis, Nadia Dajani                                                                                                                                                                                                                                                                  |United States |April 10, 2021|2014        |NULL  |93 min  |Comedy                           |When a car crash leaves Frannie immobilized, she is brushed off by everyone she can count on. With nowhere else to turn, Frannie reluctantly calls her ex, Devon, for help. It isn't long before old wounds emerge and are made worse when Devon's crazy new girlfriend shows up.                                                                                                                        |file:///root/projects/hands-on-spark-blockbuster/sources/amazon_prime_titles.csv|7f2e9bbe51e76d81989e360e2eb33f7a|\n",
      "|s13    |Movie  |The Night Eats The World         |Dominique Rocher           |Anders Danielsen Lie, Golshifteh Farahani, Denis Lavant, Sigrid Bouaziz, David Kammenos                                                                                                                                                                                                                  |France        |April 17, 2021|2018        |NULL  |94 min  |Horror, Suspense                 |After waking up in an apartment the night after a raging party, Sam comes face to face with his new reality, an army of zombies have invaded the streets of Paris and he is the lone survivor. Petrified with fear, he barricades himself inside the building to survive. He wonders how long can he last in silence and solitude, and the answer comes when he learns that he's not all alone after all.|file:///root/projects/hands-on-spark-blockbuster/sources/amazon_prime_titles.csv|7e996eab1677b90f2a288728e0519848|\n",
      "|s14    |Movie  |Resilencia                       |Jep Barcelona              |Rafinha Alcantara, Marc-André Ter Stegen, Sergi Roberto, Dr. Ramón Cugat, Mazinho, Xavi Arruebo, Celia Ferreira Da Silva, Ángel Lapuebla, Javier Enríquez, Thiago Alcantara, Valeria Alcantara                                                                                                           |Spain         |April 24, 2021|2020        |NULL  |46 min  |Documentary, Sports              |The documentary follows the midfielder’s everyday life for six months. It’s a sincere portrayal by Rafinha himself, who opened his home for the cameras to film every moment, even allowing them into the operating room.                                                                                                                                                                                |file:///root/projects/hands-on-spark-blockbuster/sources/amazon_prime_titles.csv|c57c1eed8ffeacd019aabbc863ca21a7|\n",
      "|s15    |Movie  |Elon Musk: The Real Life Iron Man|Sonia Anderson             |Elon Musk, Per Wimmer, Julie Anderson-Ankenbrandt, Cary Cooper                                                                                                                                                                                                                                           |United Kingdom|May 2, 2021   |2018        |NULL  |74 min  |Documentary                      |Discover the meteoric rise of Elon Musk, the man who is transforming the way we think about travel technology through electric cars, the Hyperloop, and revolutionary ideas on how we live through artificial intelligence and colonizing Mars.                                                                                                                                                          |file:///root/projects/hands-on-spark-blockbuster/sources/amazon_prime_titles.csv|eb3d3d91572174373e35885a80a9fd6a|\n",
      "|s16    |Movie  |Summer '03                       |Becca Gleason              |Joey King, Jack Kilmer, Andrea Savage, Paul Scheer, June Squibb, Erin Darke, Stephen Ruffin, Kelly Lamor Wilson, Logan Medina, Travis James, Bill Eudaly, Elise DuQuette                                                                                                                                 |United States |June 3, 2021  |2019        |NULL  |96 min  |Comedy, Drama                    |Summer '03 is the hilarious story of 16-year-old Jamie and her family, who are shocked after her calculating grandmother unveils an array of family secrets on her deathbed, one involving religion, the other of a more personal nature. Jamie is left to navigate her own love life and her closest friendships in the midst of this family crisis, and one of the most memorable summers of her life. |file:///root/projects/hands-on-spark-blockbuster/sources/amazon_prime_titles.csv|c8eef17e7a63254a94c5a7ab2b694a9d|\n",
      "|s17    |Movie  |Zoombies                         |Glenn Miller               |Marcus Anderson, Kaiwi Lyman, Andrew Asper                                                                                                                                                                                                                                                               |NULL          |NULL          |2016        |13+   |87 min  |Horror, Science Fiction          |When a strange virus quickly spreads through a safari park and turns all the zoo animals undead, those left in the park must stop the creatures before they escape and zombify the whole city.                                                                                                                                                                                                           |file:///root/projects/hands-on-spark-blockbuster/sources/amazon_prime_titles.csv|2ab8bd09d52ddbbe33087217107b23a4|\n",
      "|s18    |TV Show|Zoo Babies                       |NULL                       |Narrator - Gillian Barlett                                                                                                                                                                                                                                                                               |NULL          |NULL          |2008        |ALL   |1 Season|Kids, Special Interest           |A heart warming and inspiring series that welcomes the arrival of new members of the animal kingdom in Zoo's around the world, as well as showcasing endangered species being born in captivity, 'Zoo Babies' is perfect family viewing packaged with fun, colourful graphics designed to capture the attention of little ones.                                                                          |file:///root/projects/hands-on-spark-blockbuster/sources/amazon_prime_titles.csv|a2178edc02465198e438067a53ecffdb|\n",
      "|s19    |TV Show|Zoë Coombs Marr: Bossy Bottom    |NULL                       |Zoë Coombs Marr                                                                                                                                                                                                                                                                                          |NULL          |NULL          |2020        |18+   |1 Season|Comedy, Talk Show and Variety    |Zoë Coombs Marr has been on hiatus. Sort of. For six years, she won stacks of awards and acclaim as a hack comic with a neckbeard called Dave. Whatever. She’s scraped off the neckbeard and is BAAAACK… as herself. There is no comedian quite like Zoë. Bossy Bottom is a joyously silly return to very serious stand up from the MICF Most Outstanding Show winner and Edinburgh Best Show nominee.   |file:///root/projects/hands-on-spark-blockbuster/sources/amazon_prime_titles.csv|7ec455954065774b7345db372cddec4f|\n",
      "|s20    |Movie  |Zoe                              |Drake Doremus              |Ewan McGregor, Léa Seydoux, Theo James, Miranda Otto, Rashida Jones, Christina Aguilera, Matthew Gray Gubler, Anthony Shim                                                                                                                                                                               |NULL          |NULL          |2018        |R     |104 min |Science Fiction                  |ZOE tells a tale of forbidden love between an engineer and a robot. ZOE (Léa Seydoux) and COLE (Ewan McGregor) are colleagues and veiled lovers at a lab working to perfect romantic relationships. But their relationship is threatened when Zoe discovers the truth about their relationship, sending them into a spiral of confusion, betrayal and the most intense of human emotions, love.          |file:///root/projects/hands-on-spark-blockbuster/sources/amazon_prime_titles.csv|b481127369b2113a7d5b1bb84adbd256|\n",
      "+-------+-------+---------------------------------+---------------------------+---------------------------------------------------------------------------------------------------------------------------------------------------------------------------------------------------------------------------------------------------------------------------------------------------------+--------------+--------------+------------+------+--------+---------------------------------+---------------------------------------------------------------------------------------------------------------------------------------------------------------------------------------------------------------------------------------------------------------------------------------------------------------------------------------------------------------------------------------------------------+--------------------------------------------------------------------------------+--------------------------------+\n",
      "only showing top 20 rows\n",
      "\n"
     ]
    }
   ],
   "source": [
    "df_titles = spark.read.option(\"delimiter\", \",\").option(\"header\", True).csv(\"sources/*.csv\")\n",
    "df_titles = df_titles.withColumn(\"source\", F.input_file_name())\n",
    "df_titles = df_titles.withColumn(\"id_title\", F.md5(F.col(\"title\")))\n",
    "df_titles.show(truncate=False)"
   ]
  },
  {
   "cell_type": "markdown",
   "metadata": {},
   "source": [
    "## Extração - Preparando melhor os dados que foram lidos"
   ]
  },
  {
   "cell_type": "code",
   "execution_count": 5,
   "metadata": {},
   "outputs": [
    {
     "name": "stdout",
     "output_type": "stream",
     "text": [
      "+--------------------------------+-------+------------+---------------------------------+-------+---------------------------+--------------+\n",
      "|id_title                        |show_id|source      |title                            |type   |director                   |country       |\n",
      "+--------------------------------+-------+------------+---------------------------------+-------+---------------------------+--------------+\n",
      "|0c5f3999f04d96be0dd4c124b22a693e|s1     |Amazon Prime|The Grand Seduction              |Movie  |Don McKellar               |Canada        |\n",
      "|c40efb117bd151f189667b486996adb1|s2     |Amazon Prime|Take Care Good Night             |Movie  |Girish Joshi               |India         |\n",
      "|c02c2d01fc26c302e46ae5a1d9599a64|s3     |Amazon Prime|Secrets of Deception             |Movie  |Josh Webber                |United States |\n",
      "|47d18e7be0669e6c5dc270c3db5484cb|s4     |Amazon Prime|Pink: Staying True               |Movie  |Sonia Anderson             |United States |\n",
      "|9e7dfa4faecc828e769fe6048367e219|s5     |Amazon Prime|Monster Maker                    |Movie  |Giles Foster               |United Kingdom|\n",
      "|8a3be2c9a3f6e2f3beb6cf606f31ff56|s6     |Amazon Prime|Living With Dinosaurs            |Movie  |Paul Weiland               |United Kingdom|\n",
      "|1029bb5f346227ba19cae33516004984|s7     |Amazon Prime|Hired Gun                        |Movie  |Fran Strine                |United States |\n",
      "|583ced95a332e612358c60424ba3d7c3|s8     |Amazon Prime|Grease Live!                     |Movie  |Thomas Kail, Alex Rudzinski|United States |\n",
      "|823ce6319963b47ce22636f68c7ef532|s9     |Amazon Prime|Global Meltdown                  |Movie  |Daniel Gilboy              |Canada        |\n",
      "|a520216f4eac99c73eb3c489304924d9|s10    |Amazon Prime|David's Mother                   |Movie  |Robert Allan Ackerman      |United States |\n",
      "|f323be7b9a985fbb9538142369aeb4e8|s11    |Amazon Prime|Forest Fairies                   |Movie  |Justin G. Dyck             |Canada        |\n",
      "|7f2e9bbe51e76d81989e360e2eb33f7a|s12    |Amazon Prime|Take Care                        |Movie  |Liz Tuccillo               |United States |\n",
      "|7e996eab1677b90f2a288728e0519848|s13    |Amazon Prime|The Night Eats The World         |Movie  |Dominique Rocher           |France        |\n",
      "|c57c1eed8ffeacd019aabbc863ca21a7|s14    |Amazon Prime|Resilencia                       |Movie  |Jep Barcelona              |Spain         |\n",
      "|eb3d3d91572174373e35885a80a9fd6a|s15    |Amazon Prime|Elon Musk: The Real Life Iron Man|Movie  |Sonia Anderson             |United Kingdom|\n",
      "|c8eef17e7a63254a94c5a7ab2b694a9d|s16    |Amazon Prime|Summer '03                       |Movie  |Becca Gleason              |United States |\n",
      "|2ab8bd09d52ddbbe33087217107b23a4|s17    |Amazon Prime|Zoombies                         |Movie  |Glenn Miller               |NULL          |\n",
      "|a2178edc02465198e438067a53ecffdb|s18    |Amazon Prime|Zoo Babies                       |TV Show|NULL                       |NULL          |\n",
      "|7ec455954065774b7345db372cddec4f|s19    |Amazon Prime|Zoë Coombs Marr: Bossy Bottom    |TV Show|NULL                       |NULL          |\n",
      "|b481127369b2113a7d5b1bb84adbd256|s20    |Amazon Prime|Zoe                              |Movie  |Drake Doremus              |NULL          |\n",
      "+--------------------------------+-------+------------+---------------------------------+-------+---------------------------+--------------+\n",
      "only showing top 20 rows\n",
      "\n"
     ]
    }
   ],
   "source": [
    "df_final = df_titles.withColumn(\"source\", get_name_source(\"source\"))\n",
    "df_final = df_final.select(\"id_title\", \"show_id\", \"source\", \"title\", \"type\", \"director\", \"country\")\n",
    "df_final.show(truncate=False)"
   ]
  },
  {
   "cell_type": "code",
   "execution_count": 6,
   "metadata": {},
   "outputs": [
    {
     "name": "stdout",
     "output_type": "stream",
     "text": [
      "Total items: 19932\n"
     ]
    }
   ],
   "source": [
    "print(\"Total items:\", df_final.count())"
   ]
  },
  {
   "cell_type": "markdown",
   "metadata": {},
   "source": [
    "## Transformação - Criando algumas visões analíticas"
   ]
  },
  {
   "cell_type": "code",
   "execution_count": 7,
   "metadata": {},
   "outputs": [
    {
     "name": "stdout",
     "output_type": "stream",
     "text": [
      "+------------+-----+\n",
      "|source      |total|\n",
      "+------------+-----+\n",
      "|Amazon Prime|9674 |\n",
      "|Netflix     |8808 |\n",
      "|Disney Plus |1450 |\n",
      "+------------+-----+\n",
      "\n"
     ]
    }
   ],
   "source": [
    "df_sources = df_final.groupBy(\"source\").agg(F.count(F.col(\"source\")).alias(\"total\"))\n",
    "df_sources.show(truncate=False)"
   ]
  },
  {
   "cell_type": "code",
   "execution_count": 10,
   "metadata": {},
   "outputs": [
    {
     "name": "stdout",
     "output_type": "stream",
     "text": [
      "+------------+-------+-----+\n",
      "|source      |type   |total|\n",
      "+------------+-------+-----+\n",
      "|Amazon Prime|TV Show|1854 |\n",
      "|Amazon Prime|Movie  |7814 |\n",
      "|Netflix     |TV Show|2676 |\n",
      "|Netflix     |Movie  |6131 |\n",
      "|Disney Plus |TV Show|398  |\n",
      "|Disney Plus |Movie  |1052 |\n",
      "+------------+-------+-----+\n",
      "\n"
     ]
    }
   ],
   "source": [
    "df_type = df_final.groupBy(\"source\", \"type\").agg(F.count(F.col(\"type\")).alias(\"total\"))\n",
    "df_type = df_type.na.drop()\n",
    "df_type.show(truncate=False)"
   ]
  },
  {
   "cell_type": "code",
   "execution_count": 9,
   "metadata": {},
   "outputs": [
    {
     "name": "stdout",
     "output_type": "stream",
     "text": [
      "+--------------------------------+-------+-------+-----------+-------+--------+-------+\n",
      "|id_title                        |show_id|source |title      |type   |director|country|\n",
      "+--------------------------------+-------+-------+-----------+-------+--------+-------+\n",
      "|e02a55ecc08c5d3780b4c593af41714c|s8804  |Netflix|Zombie Dumb|TV Show|NULL    |NULL   |\n",
      "+--------------------------------+-------+-------+-----------+-------+--------+-------+\n",
      "\n"
     ]
    }
   ],
   "source": [
    "df_filter = df_final.filter((F.col(\"title\") == \"Zombie Dumb\"))\n",
    "df_filter.show(truncate=False)"
   ]
  }
 ],
 "metadata": {
  "kernelspec": {
   "display_name": ".venv",
   "language": "python",
   "name": "python3"
  },
  "language_info": {
   "codemirror_mode": {
    "name": "ipython",
    "version": 3
   },
   "file_extension": ".py",
   "mimetype": "text/x-python",
   "name": "python",
   "nbconvert_exporter": "python",
   "pygments_lexer": "ipython3",
   "version": "3.11.2"
  }
 },
 "nbformat": 4,
 "nbformat_minor": 2
}
